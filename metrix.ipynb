{
 "cells": [
  {
   "cell_type": "code",
   "execution_count": 1,
   "id": "b814fd92",
   "metadata": {},
   "outputs": [],
   "source": [
    "import numpy as np"
   ]
  },
  {
   "cell_type": "markdown",
   "id": "477b4381",
   "metadata": {},
   "source": [
    "## Stop Line"
   ]
  },
  {
   "cell_type": "code",
   "execution_count": 25,
   "id": "75fa8440",
   "metadata": {},
   "outputs": [
    {
     "data": {
      "text/plain": [
       "array([[0.  , 0.  , 0.  , 0.  , 0.  , 0.  , 0.  , 0.  ],\n",
       "       [0.15, 0.16, 0.  , 0.48, 0.39, 0.12, 0.  , 0.68],\n",
       "       [0.  , 0.36, 0.  , 0.  , 0.55, 0.2 , 0.25, 0.35],\n",
       "       [0.15, 0.13, 0.  , 0.76, 0.22, 0.12, 0.21, 0.  ]])"
      ]
     },
     "execution_count": 25,
     "metadata": {},
     "output_type": "execute_result"
    }
   ],
   "source": [
    "bbox=True\n",
    "obj = 'stop_line'\n",
    "metrix=[]\n",
    "for method in ['no-vg', 'vg-no-context', 'vg-in-context/bbox_True', 'vg-comb/bbox_True']:\n",
    "    values = np.load(f'outputs/{method}/{obj}/IoU_metrix.npy')\n",
    "    values = [round(v, 2) for v in values]\n",
    "    metrix.append(values)\n",
    "metrix = np.stack(metrix)\n",
    "# 0,1,3,4,7\n",
    "metrix"
   ]
  },
  {
   "cell_type": "markdown",
   "id": "2b546bce",
   "metadata": {},
   "source": [
    "## Raised Table"
   ]
  },
  {
   "cell_type": "code",
   "execution_count": 27,
   "id": "de3707b6",
   "metadata": {},
   "outputs": [
    {
     "data": {
      "text/plain": [
       "array([[0.  , 0.  , 0.  , 0.1 , 0.08, 0.  , 0.  , 0.34, 0.04, 0.  ],\n",
       "       [0.  , 0.41, 0.06, 0.27, 0.71, 0.15, 0.34, 0.1 , 0.07, 0.04],\n",
       "       [0.14, 0.41, 0.14, 0.69, 0.71, 0.21, 0.29, 0.29, 0.  , 0.27],\n",
       "       [0.14, 0.41, 0.08, 0.7 , 0.62, 0.21, 0.63, 0.29, 0.23, 0.22]])"
      ]
     },
     "execution_count": 27,
     "metadata": {},
     "output_type": "execute_result"
    }
   ],
   "source": [
    "bbox=True\n",
    "obj = 'raised_table'\n",
    "metrix=[]\n",
    "for method in ['no-vg', 'vg-no-context', 'vg-in-context/bbox_True', 'vg-comb/bbox_True']:\n",
    "    values = np.load(f'outputs/{method}/{obj}/IoU_metrix.npy')\n",
    "    values = [round(v, 2) for v in values]\n",
    "    metrix.append(values)\n",
    "metrix = np.stack(metrix)\n",
    "# 0,3,4,6,8\n",
    "metrix"
   ]
  }
 ],
 "metadata": {
  "kernelspec": {
   "display_name": "Python 3 (ipykernel)",
   "language": "python",
   "name": "python3"
  },
  "language_info": {
   "codemirror_mode": {
    "name": "ipython",
    "version": 3
   },
   "file_extension": ".py",
   "mimetype": "text/x-python",
   "name": "python",
   "nbconvert_exporter": "python",
   "pygments_lexer": "ipython3",
   "version": "3.11.5"
  }
 },
 "nbformat": 4,
 "nbformat_minor": 5
}
