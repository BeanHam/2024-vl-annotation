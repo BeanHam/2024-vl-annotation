{
 "cells": [
  {
   "cell_type": "code",
   "execution_count": 1,
   "id": "b814fd92",
   "metadata": {},
   "outputs": [],
   "source": [
    "import numpy as np"
   ]
  },
  {
   "cell_type": "markdown",
   "id": "477b4381",
   "metadata": {},
   "source": [
    "## Stop Line"
   ]
  },
  {
   "cell_type": "code",
   "execution_count": 4,
   "id": "75fa8440",
   "metadata": {},
   "outputs": [
    {
     "data": {
      "text/plain": [
       "array([[0.  , 0.  , 0.  , 0.  , 0.07, 0.  , 0.  , 0.  ],\n",
       "       [0.13, 0.02, 0.51, 0.27, 0.55, 0.29, 0.21, 0.01],\n",
       "       [0.  , 0.65, 0.58, 0.76, 0.55, 0.  , 0.  , 0.37],\n",
       "       [0.15, 0.02, 0.42, 0.76, 0.39, 0.29, 0.21, 0.68]])"
      ]
     },
     "execution_count": 4,
     "metadata": {},
     "output_type": "execute_result"
    }
   ],
   "source": [
    "bbox=True\n",
    "model = 'gpt-4o-2024-05-13'\n",
    "obj = 'stop_line'\n",
    "metrix=[]\n",
    "for method in ['no-vg', 'vg-no-context', 'vg-in-context/bbox_True', 'vg-comb/bbox_True']:\n",
    "    values = np.load(f'outputs/{model}/{method}/{obj}/IoU_metrix.npy')\n",
    "    values = [round(v, 2) for v in values]\n",
    "    metrix.append(values)\n",
    "metrix = np.stack(metrix)\n",
    "metrix\n",
    "#1,3,4,6,8"
   ]
  },
  {
   "cell_type": "markdown",
   "id": "2b546bce",
   "metadata": {},
   "source": [
    "## Raised Table"
   ]
  },
  {
   "cell_type": "code",
   "execution_count": 6,
   "id": "de3707b6",
   "metadata": {},
   "outputs": [
    {
     "data": {
      "text/plain": [
       "array([[0.03, 0.  , 0.  , 0.  , 0.  , 0.  , 0.  , 0.17, 0.  , 0.  ],\n",
       "       [0.14, 0.49, 0.14, 0.27, 0.71, 0.21, 0.6 , 0.1 , 0.32, 0.33],\n",
       "       [0.11, 0.08, 0.11, 0.7 , 0.71, 0.21, 0.36, 0.29, 0.26, 0.27],\n",
       "       [0.14, 0.49, 0.15, 0.7 , 0.71, 0.21, 0.63, 0.29, 0.53, 0.33]])"
      ]
     },
     "execution_count": 6,
     "metadata": {},
     "output_type": "execute_result"
    }
   ],
   "source": [
    "bbox=True\n",
    "model = 'gpt-4o-2024-05-13'\n",
    "obj = 'raised_table'\n",
    "metrix=[]\n",
    "for method in ['no-vg', 'vg-no-context', 'vg-in-context/bbox_True', 'vg-comb/bbox_True']:\n",
    "    values = np.load(f'outputs/{model}/{method}/{obj}/IoU_metrix.npy')\n",
    "    values = [round(v, 2) for v in values]\n",
    "    metrix.append(values)\n",
    "metrix = np.stack(metrix)\n",
    "metrix\n",
    "#1,4,5,7,9"
   ]
  }
 ],
 "metadata": {
  "kernelspec": {
   "display_name": "Python 3 (ipykernel)",
   "language": "python",
   "name": "python3"
  },
  "language_info": {
   "codemirror_mode": {
    "name": "ipython",
    "version": 3
   },
   "file_extension": ".py",
   "mimetype": "text/x-python",
   "name": "python",
   "nbconvert_exporter": "python",
   "pygments_lexer": "ipython3",
   "version": "3.11.5"
  }
 },
 "nbformat": 4,
 "nbformat_minor": 5
}
