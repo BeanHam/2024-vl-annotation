{
 "cells": [
  {
   "cell_type": "code",
   "execution_count": 1,
   "id": "62d5fc59",
   "metadata": {},
   "outputs": [],
   "source": [
    "import os\n",
    "import torch\n",
    "import string\n",
    "import base64\n",
    "import requests\n",
    "import argparse\n",
    "import numpy as np\n",
    "import matplotlib.pyplot as plt\n",
    "from tqdm import tqdm\n",
    "from PIL import Image\n",
    "from matplotlib.patches import Rectangle\n",
    "\n",
    "stop_line_prompt = \"\"\"\n",
    "[INST] <image>\\n\n",
    "A stop line is a white line painted on the road at intersections where traffic must stop. \n",
    "It shows drivers where to halt their vehicles. \n",
    "Please identify the bounding box of the stop line in the image in the format of (xtl, ytl, xbr, ybr).[/INST]\n",
    "\"\"\"\n",
    "raised_table_prompt=\"\"\"\n",
    "A raised table usually covers the entire width of the crosswalk. \n",
    "It is typically painted with triangular arrows in white color.\n",
    "Please identify the bounding box of the stop line in the image in the format of (xtl, ytl, xbr, ybr).[/INST]\n",
    "\"\"\""
   ]
  },
  {
   "cell_type": "code",
   "execution_count": 22,
   "id": "5c143442",
   "metadata": {},
   "outputs": [],
   "source": [
    "def iou_cal(gt, pred):\n",
    "    \"\"\"\n",
    "    Calculate IoU metric.\n",
    "    \"\"\"    \n",
    "    return np.logical_and(gt, pred).sum()/np.logical_or(gt, pred).sum() \n",
    "\n",
    "def encode_image(image_path):\n",
    "    with open(image_path, \"rb\") as image_file:\n",
    "        return base64.b64encode(image_file.read()).decode('utf-8')\n",
    "\n",
    "def write_completion_request(prompt, base64_image):\n",
    "    \"\"\"\n",
    "    Compose completion request.\n",
    "    \"\"\"\n",
    "    \n",
    "    completion = {\n",
    "      \"model\": \"gpt-4-turbo-2024-04-09\",\n",
    "      \"messages\": [\n",
    "          {\"role\": \"user\",\n",
    "           \"content\": [\n",
    "               {\"type\": \"text\", \"text\": prompt},\n",
    "               {\"type\": \"image_url\", \"image_url\": {\"url\": f\"data:image/jpeg;base64,{base64_image}\"}}\n",
    "           ]}\n",
    "      ],\n",
    "      \"max_tokens\": 200\n",
    "    }\n",
    "    return completion\n",
    "\n",
    "def post_processing(response, output_path, save_name):\n",
    "    \"\"\"\n",
    "    Extract bounding box.\n",
    "    \"\"\"\n",
    "    try:\n",
    "        response = response.translate(str.maketrans('', '', string.punctuation))\n",
    "        xtl, ytl, xbr, ybr = [int(l) for l in response.split() if l.isnumeric()]\n",
    "    except:\n",
    "        xtl, ytl, xbr, ybr = 0,0,0,0\n",
    "    bbox = np.array([xtl, ytl, xbr, ybr])\n",
    "    np.save(output_path+save_name+'_bbox.npy', bbox)\n",
    "    return bbox\n",
    "\n",
    "def generate_masking(img, bbox, output_path, save_name, image_size):\n",
    "    \n",
    "    \"\"\"\n",
    "    Generate binary masking.\n",
    "    \"\"\"\n",
    "    \n",
    "    save_dir = output_path+save_name\n",
    "    xtl, ytl, xbr, ybr = bbox\n",
    "    \n",
    "    # generate black masking region\n",
    "    fig, ax = plt.subplots()\n",
    "    ax.imshow(img)\n",
    "    ax.axis('off')\n",
    "    rect = Rectangle((xtl, ytl), xbr-xtl, ybr-ytl, color=\"black\", angle=0, rotation_point='center')\n",
    "    ax.add_patch(rect)\n",
    "    plt.savefig(save_dir+'_masking.png', dpi=600, bbox_inches='tight', pad_inches=0)\n",
    "    plt.close()\n",
    "    \n",
    "    # generate binary masking matrix\n",
    "    img_masking = np.array(Image.open(save_dir+'_masking.png').convert('RGB').resize(image_size))\n",
    "    masking = np.zeros(image_size)\n",
    "    masking[np.where(img_masking.sum(axis=-1)==0.0)]=True\n",
    "    np.save(save_dir+'_masking.npy', masking)\n",
    "    \n",
    "    # replot masking region in red\n",
    "    plt.figure(figsize=(3.36,3.36))\n",
    "    plt.imshow(img)\n",
    "    ax = plt.gca()\n",
    "    ax.set_autoscale_on(False)    \n",
    "    img_mask = np.ones((masking.shape[0], masking.shape[1], 4))\n",
    "    img_mask[:,:,3] = 0\n",
    "    img_mask[masking==1] = np.concatenate([[1,0,0], [0.5]])\n",
    "    ax.imshow(img_mask)\n",
    "    plt.axis('off')\n",
    "    plt.savefig(save_dir+'_masking.png', bbox_inches='tight', dpi=600, pad_inches=0)\n",
    "    plt.close()"
   ]
  },
  {
   "cell_type": "code",
   "execution_count": 3,
   "id": "e692e64b",
   "metadata": {},
   "outputs": [],
   "source": [
    "obj = 'stop_line'\n",
    "api_key = 'sk-proj-iqZpYoNdT94oQAwnSoQtT3BlbkFJdrklgzQFuYRGcJnEXiia'\n",
    "method='no-vg'  \n",
    "image_size = (336,336)\n",
    "image_path = f'images/{obj}/'\n",
    "image_names = os.listdir(image_path)\n",
    "image_names = [name for name in image_names if ((name.endswith('.png') & ('masking' not in name)))]\n",
    "output_path = f'outputs/{method}/{obj}/'\n",
    "api_web = \"https://api.openai.com/v1/chat/completions\"\n",
    "if not os.path.isdir(output_path):\n",
    "    os.makedirs(output_path)\n",
    "if obj == \"stop_line\":\n",
    "    prompt = stop_line_prompt\n",
    "else:\n",
    "    prompt = raised_table_prompt        \n",
    "headers = {\n",
    "    \"Content-Type\": \"application/json\",\n",
    "    \"Authorization\": f\"Bearer {api_key}\"\n",
    "}"
   ]
  },
  {
   "cell_type": "code",
   "execution_count": 25,
   "id": "98f68dfd",
   "metadata": {},
   "outputs": [
    {
     "data": {
      "text/plain": [
       "'stop_line_2.png'"
      ]
     },
     "execution_count": 25,
     "metadata": {},
     "output_type": "execute_result"
    }
   ],
   "source": [
    "image_name"
   ]
  },
  {
   "cell_type": "code",
   "execution_count": 4,
   "id": "bce982b9",
   "metadata": {},
   "outputs": [],
   "source": [
    "image_name = image_names[0]\n",
    "save_name = image_name.split('.')[0]\n",
    "img = Image.open(image_path+image_name).convert('RGB').resize(image_size)"
   ]
  },
  {
   "cell_type": "code",
   "execution_count": 6,
   "id": "af7e1573",
   "metadata": {},
   "outputs": [],
   "source": [
    "base64_image = encode_image(image_path+image_name)\n",
    "completion = write_completion_request(prompt, base64_image)\n",
    "response = requests.post(api_web, headers=headers, json=completion)\n",
    "response = response.json()['choices'][0]['message']['content']"
   ]
  },
  {
   "cell_type": "code",
   "execution_count": 23,
   "id": "aa5409aa",
   "metadata": {},
   "outputs": [],
   "source": [
    "bbox = post_processing(response,output_path, save_name)"
   ]
  },
  {
   "cell_type": "code",
   "execution_count": 24,
   "id": "109d4a97",
   "metadata": {},
   "outputs": [],
   "source": [
    "generate_masking(img, bbox, output_path, save_name, image_size)"
   ]
  }
 ],
 "metadata": {
  "kernelspec": {
   "display_name": "Python 3 (ipykernel)",
   "language": "python",
   "name": "python3"
  },
  "language_info": {
   "codemirror_mode": {
    "name": "ipython",
    "version": 3
   },
   "file_extension": ".py",
   "mimetype": "text/x-python",
   "name": "python",
   "nbconvert_exporter": "python",
   "pygments_lexer": "ipython3",
   "version": "3.11.5"
  }
 },
 "nbformat": 4,
 "nbformat_minor": 5
}
